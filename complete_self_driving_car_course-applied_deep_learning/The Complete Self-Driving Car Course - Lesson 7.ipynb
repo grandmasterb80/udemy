{
 "cells": [
  {
   "cell_type": "code",
   "execution_count": null,
   "metadata": {},
   "outputs": [],
   "source": [
    "import numpy as np\n",
    "import tensorflow.keras\n",
    "from tensorflow.keras.models import Sequential\n",
    "from tensorflow.keras.layers import Dense\n",
    "from tensorflow.keras.optimizers import Adam\n",
    "import matplotlib.pyplot as plt\n",
    "%matplotlib inline"
   ]
  },
  {
   "cell_type": "code",
   "execution_count": null,
   "metadata": {},
   "outputs": [],
   "source": [
    "def draw( x1, x2 ):\n",
    "    ln = plt.plot( x1, x2 )"
   ]
  },
  {
   "cell_type": "code",
   "execution_count": null,
   "metadata": {},
   "outputs": [],
   "source": [
    "def sigmoid( score ):\n",
    "    return 1 / (1 + np.exp( -score ) )"
   ]
  },
  {
   "cell_type": "code",
   "execution_count": null,
   "metadata": {},
   "outputs": [],
   "source": [
    "def compute_error( line_parameters, points, y ):\n",
    "    p = sigmoid( points * line_parameters )\n",
    "    return -( np.log( p ).T * y + np.log( 1 - p ).T * ( 1 - y ) ) / points.shape[ 0 ]"
   ]
  },
  {
   "cell_type": "code",
   "execution_count": null,
   "metadata": {},
   "outputs": [],
   "source": [
    "def gradient_descent( line_parameters, points, y, alpha ):\n",
    "    m = points.shape[ 0 ]\n",
    "    for i in range( 500 ):\n",
    "        p = sigmoid( points * line_parameters )\n",
    "        gradient = ( points.T * ( p - y ) ) * ( alpha / m )\n",
    "        line_parameters = line_parameters - gradient\n",
    "        w1 = line_parameters.item( 0 )\n",
    "        w2 = line_parameters.item( 1 )\n",
    "        bias = line_parameters.item( 2 )\n",
    "        x1 = np.array( [ lower_region[ :, 0 ].min(), upper_region[ :, 0 ].max() ] )\n",
    "        if w2 != 0:\n",
    "            x2 = -bias / w2 + x1 * ( -w1 / w2 )\n",
    "        else:\n",
    "            x2 = 0\n",
    "    draw ( x1, x2 )"
   ]
  },
  {
   "cell_type": "code",
   "execution_count": null,
   "metadata": {},
   "outputs": [],
   "source": [
    "# prepare upper sample points (representing people having diabetis)\n",
    "n_pts = 100\n",
    "np.random.seed( 0 )\n",
    "bias = np.ones( n_pts )\n",
    "random_x1_values = np.random.normal( 10, 2, n_pts )\n",
    "random_x2_values = np.random.normal( 12, 2, n_pts )\n",
    "upper_region = np.array( [ random_x1_values, random_x2_values, bias ] ).T\n",
    "_, ax = plt.subplots( figsize = ( 4, 4 ) )\n",
    "ax.scatter( upper_region [ :, 0 ], upper_region [ :, 1 ], color='r' )\n",
    "plt.show()"
   ]
  },
  {
   "cell_type": "code",
   "execution_count": 1,
   "metadata": {
    "scrolled": true
   },
   "outputs": [
    {
     "ename": "NameError",
     "evalue": "name 'np' is not defined",
     "output_type": "error",
     "traceback": [
      "\u001b[0;31m---------------------------------------------------------------------------\u001b[0m",
      "\u001b[0;31mNameError\u001b[0m                                 Traceback (most recent call last)",
      "\u001b[0;32m<ipython-input-1-8be77423e7e7>\u001b[0m in \u001b[0;36m<module>\u001b[0;34m()\u001b[0m\n\u001b[1;32m      1\u001b[0m \u001b[0;31m# prepare lower sample points (representing people not having diabetis)\u001b[0m\u001b[0;34m\u001b[0m\u001b[0;34m\u001b[0m\u001b[0;34m\u001b[0m\u001b[0m\n\u001b[0;32m----> 2\u001b[0;31m \u001b[0mnp\u001b[0m\u001b[0;34m.\u001b[0m\u001b[0mrandom\u001b[0m\u001b[0;34m.\u001b[0m\u001b[0mseed\u001b[0m\u001b[0;34m(\u001b[0m\u001b[0;36m0\u001b[0m\u001b[0;34m)\u001b[0m\u001b[0;34m\u001b[0m\u001b[0;34m\u001b[0m\u001b[0m\n\u001b[0m\u001b[1;32m      3\u001b[0m \u001b[0mrandom_x1_values\u001b[0m \u001b[0;34m=\u001b[0m \u001b[0mnp\u001b[0m\u001b[0;34m.\u001b[0m\u001b[0mrandom\u001b[0m\u001b[0;34m.\u001b[0m\u001b[0mnormal\u001b[0m\u001b[0;34m(\u001b[0m\u001b[0;36m5\u001b[0m\u001b[0;34m,\u001b[0m \u001b[0;36m2\u001b[0m\u001b[0;34m,\u001b[0m \u001b[0mn_pts\u001b[0m\u001b[0;34m)\u001b[0m\u001b[0;34m\u001b[0m\u001b[0;34m\u001b[0m\u001b[0m\n\u001b[1;32m      4\u001b[0m \u001b[0mrandom_x2_values\u001b[0m \u001b[0;34m=\u001b[0m \u001b[0mnp\u001b[0m\u001b[0;34m.\u001b[0m\u001b[0mrandom\u001b[0m\u001b[0;34m.\u001b[0m\u001b[0mnormal\u001b[0m\u001b[0;34m(\u001b[0m\u001b[0;36m6\u001b[0m\u001b[0;34m,\u001b[0m \u001b[0;36m2\u001b[0m\u001b[0;34m,\u001b[0m \u001b[0mn_pts\u001b[0m\u001b[0;34m)\u001b[0m\u001b[0;34m\u001b[0m\u001b[0;34m\u001b[0m\u001b[0m\n\u001b[1;32m      5\u001b[0m \u001b[0mlower_region\u001b[0m \u001b[0;34m=\u001b[0m \u001b[0mnp\u001b[0m\u001b[0;34m.\u001b[0m\u001b[0marray\u001b[0m\u001b[0;34m(\u001b[0m \u001b[0;34m[\u001b[0m \u001b[0mrandom_x1_values\u001b[0m\u001b[0;34m,\u001b[0m \u001b[0mrandom_x2_values\u001b[0m\u001b[0;34m,\u001b[0m \u001b[0mbias\u001b[0m \u001b[0;34m]\u001b[0m \u001b[0;34m)\u001b[0m\u001b[0;34m.\u001b[0m\u001b[0mT\u001b[0m\u001b[0;34m\u001b[0m\u001b[0;34m\u001b[0m\u001b[0m\n",
      "\u001b[0;31mNameError\u001b[0m: name 'np' is not defined"
     ]
    }
   ],
   "source": [
    "# prepare lower sample points (representing people not having diabetis)\n",
    "np.random.seed(0)\n",
    "random_x1_values = np.random.normal(5, 2, n_pts)\n",
    "random_x2_values = np.random.normal(6, 2, n_pts)\n",
    "lower_region = np.array( [ random_x1_values, random_x2_values, bias ] ).T\n",
    "all_points = np.vstack( ( upper_region, lower_region ) )\n",
    "_, ax = plt.subplots( figsize = ( 4, 4 ) )\n",
    "ax.scatter( lower_region [ :, 0 ], lower_region [ :, 1 ], color='b' )\n",
    "ax.scatter( upper_region [ :, 0 ], upper_region [ :, 1 ], color='r' )\n",
    "plt.show()"
   ]
  },
  {
   "cell_type": "code",
   "execution_count": null,
   "metadata": {},
   "outputs": [],
   "source": [
    "#w1 = -0.2\n",
    "#w2 = -0.35\n",
    "#bias = 3.5\n",
    "#line_parameters = np.matrix( [ w1, w2, bias ] ).T\n",
    "line_parameters = np.matrix( [ np.zeros( 3 ) ] ).T\n",
    "#x1 = np.array( [ lower_region[ :, 0 ].min(), upper_region[ :, 0 ].max() ] )\n",
    "#x2 = -bias / w2 + x1 * ( -w1 / w2 )\n",
    "linear_combination = all_points * line_parameters\n",
    "_, ax = plt.subplots( figsize = ( 4, 4 ) )\n",
    "ax.scatter( lower_region [ :, 0 ], lower_region [ :, 1 ], color='b' )\n",
    "ax.scatter( upper_region [ :, 0 ], upper_region [ :, 1 ], color='r' )\n",
    "#draw ( x1, x2 )\n",
    "plt.show()"
   ]
  },
  {
   "cell_type": "code",
   "execution_count": null,
   "metadata": {},
   "outputs": [],
   "source": [
    "#probabilities = sigmoid( linear_combination )\n",
    "y = np.array( [ np.zeros( n_pts ), np.ones( n_pts ) ] ).reshape( n_pts * 2, 1 )\n",
    "#total_error = compute_error( line_parameters, all_points, y )\n",
    "#print ( all_points.shape )\n",
    "#print ( line_parameters.shape )\n",
    "#print ( \"All Points\" )\n",
    "#print ( all_points )\n",
    "#print ( \"Linear Combination\" )\n",
    "#print ( linear_combination )\n",
    "#print ( \"Probabilites\" )\n",
    "#print ( probabilities )\n",
    "#print ( total_error )\n",
    "gradient_descent( line_parameters, all_points, y, 0.06 )\n",
    "plt.show()"
   ]
  },
  {
   "cell_type": "code",
   "execution_count": null,
   "metadata": {},
   "outputs": [],
   "source": []
  },
  {
   "cell_type": "code",
   "execution_count": null,
   "metadata": {},
   "outputs": [],
   "source": []
  }
 ],
 "metadata": {
  "kernelspec": {
   "display_name": "Python 3",
   "language": "python",
   "name": "python3"
  }
 },
 "nbformat": 4,
 "nbformat_minor": 2
}
